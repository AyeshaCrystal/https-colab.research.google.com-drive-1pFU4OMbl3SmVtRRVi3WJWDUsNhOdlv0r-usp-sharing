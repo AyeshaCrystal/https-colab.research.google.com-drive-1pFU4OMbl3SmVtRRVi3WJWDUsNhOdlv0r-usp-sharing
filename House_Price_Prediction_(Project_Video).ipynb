{
  "nbformat": 4,
  "nbformat_minor": 0,
  "metadata": {
    "colab": {
      "provenance": []
    },
    "kernelspec": {
      "name": "python3",
      "display_name": "Python 3"
    },
    "language_info": {
      "name": "python"
    }
  },
  "cells": [
    {
      "cell_type": "code",
      "execution_count": null,
      "metadata": {
        "id": "up-AIMmxBhAB"
      },
      "outputs": [],
      "source": [
        "DRIVE LINK OF VIDEO"
      ]
    },
    {
      "cell_type": "markdown",
      "source": [
        "https://drive.google.com/file/d/15SGrRx25O_77VEFLym0hFrzWw1c7OqD4/view?usp=drive_link"
      ],
      "metadata": {
        "id": "cc_eZaAeB7jY"
      }
    }
  ]
}